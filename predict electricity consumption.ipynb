{
 "cells": [
  {
   "cell_type": "markdown",
   "metadata": {},
   "source": [
    "# <span style='color:red'> Predict electricity consumption of a building using Scikit-learn.   </span>"
   ]
  },
  {
   "cell_type": "markdown",
   "metadata": {},
   "source": [
    "# <span style='color:Blue'> Task one :import libraries and helper functions.   </span>"
   ]
  },
  {
   "cell_type": "code",
   "execution_count": 2,
   "metadata": {},
   "outputs": [],
   "source": [
    "import pandas as pd\n",
    "import numpy as np\n",
    "from sklearn.neighbors import KNeighborsRegressor"
   ]
  },
  {
   "cell_type": "markdown",
   "metadata": {},
   "source": [
    " \n",
    "# <span style='color:blue'> Task two : Import the  the building dataset based on geographical location and usage in an interactive way</span>"
   ]
  },
  {
   "cell_type": "markdown",
   "metadata": {},
   "source": [
    "## <span style='color:blue'> 2.1 : Import the metadata file    </span>\n",
    "The metadata is saved in meta_open.csv file.We will use pandas to import the data  "
   ]
  },
  {
   "cell_type": "code",
   "execution_count": 3,
   "metadata": {},
   "outputs": [],
   "source": [
    "#import the metadata file \n",
    "metadata = pd.read_csv(\"data/meta_open.csv\")"
   ]
  },
  {
   "cell_type": "code",
   "execution_count": 22,
   "metadata": {},
   "outputs": [
    {
     "data": {
      "text/html": [
       "<div>\n",
       "<style scoped>\n",
       "    .dataframe tbody tr th:only-of-type {\n",
       "        vertical-align: middle;\n",
       "    }\n",
       "\n",
       "    .dataframe tbody tr th {\n",
       "        vertical-align: top;\n",
       "    }\n",
       "\n",
       "    .dataframe thead th {\n",
       "        text-align: right;\n",
       "    }\n",
       "</style>\n",
       "<table border=\"1\" class=\"dataframe\">\n",
       "  <thead>\n",
       "    <tr style=\"text-align: right;\">\n",
       "      <th></th>\n",
       "      <th>uid</th>\n",
       "      <th>dataend</th>\n",
       "      <th>datastart</th>\n",
       "      <th>energystarscore</th>\n",
       "      <th>heatingtype</th>\n",
       "      <th>industry</th>\n",
       "      <th>mainheatingtype</th>\n",
       "      <th>numberoffloors</th>\n",
       "      <th>occupants</th>\n",
       "      <th>primaryspaceusage</th>\n",
       "      <th>rating</th>\n",
       "      <th>sqft</th>\n",
       "      <th>sqm</th>\n",
       "      <th>subindustry</th>\n",
       "      <th>timezone</th>\n",
       "      <th>yearbuilt</th>\n",
       "      <th>nickname</th>\n",
       "      <th>primaryspaceuse_abbrev</th>\n",
       "      <th>newweatherfilename</th>\n",
       "      <th>annualschedule</th>\n",
       "    </tr>\n",
       "  </thead>\n",
       "  <tbody>\n",
       "    <tr>\n",
       "      <th>0</th>\n",
       "      <td>Office_Abbey</td>\n",
       "      <td>31/12/15 23:00</td>\n",
       "      <td>1/1/15 0:00</td>\n",
       "      <td>NaN</td>\n",
       "      <td>NaN</td>\n",
       "      <td>Education</td>\n",
       "      <td>NaN</td>\n",
       "      <td>NaN</td>\n",
       "      <td>NaN</td>\n",
       "      <td>Office</td>\n",
       "      <td>NaN</td>\n",
       "      <td>74180.0</td>\n",
       "      <td>6891.544540</td>\n",
       "      <td>College/University</td>\n",
       "      <td>America/Phoenix</td>\n",
       "      <td>1930</td>\n",
       "      <td>Abbey</td>\n",
       "      <td>Office</td>\n",
       "      <td>weather0.csv</td>\n",
       "      <td>schedule2.csv</td>\n",
       "    </tr>\n",
       "    <tr>\n",
       "      <th>1</th>\n",
       "      <td>Office_Abigail</td>\n",
       "      <td>31/12/15 23:00</td>\n",
       "      <td>1/1/15 0:00</td>\n",
       "      <td>NaN</td>\n",
       "      <td>NaN</td>\n",
       "      <td>Education</td>\n",
       "      <td>NaN</td>\n",
       "      <td>NaN</td>\n",
       "      <td>NaN</td>\n",
       "      <td>Office</td>\n",
       "      <td>NaN</td>\n",
       "      <td>9703.0</td>\n",
       "      <td>901.437809</td>\n",
       "      <td>College/University</td>\n",
       "      <td>America/Phoenix</td>\n",
       "      <td>1940</td>\n",
       "      <td>Abigail</td>\n",
       "      <td>Office</td>\n",
       "      <td>weather0.csv</td>\n",
       "      <td>schedule2.csv</td>\n",
       "    </tr>\n",
       "    <tr>\n",
       "      <th>2</th>\n",
       "      <td>Office_Al</td>\n",
       "      <td>31/12/15 23:00</td>\n",
       "      <td>1/1/15 0:00</td>\n",
       "      <td>NaN</td>\n",
       "      <td>NaN</td>\n",
       "      <td>Education</td>\n",
       "      <td>NaN</td>\n",
       "      <td>NaN</td>\n",
       "      <td>NaN</td>\n",
       "      <td>Office</td>\n",
       "      <td>NaN</td>\n",
       "      <td>118966.0</td>\n",
       "      <td>11052.298300</td>\n",
       "      <td>College/University</td>\n",
       "      <td>America/Phoenix</td>\n",
       "      <td>1988</td>\n",
       "      <td>Al</td>\n",
       "      <td>Office</td>\n",
       "      <td>weather0.csv</td>\n",
       "      <td>schedule2.csv</td>\n",
       "    </tr>\n",
       "    <tr>\n",
       "      <th>3</th>\n",
       "      <td>Office_Alannah</td>\n",
       "      <td>31/12/15 23:00</td>\n",
       "      <td>1/1/15 0:00</td>\n",
       "      <td>NaN</td>\n",
       "      <td>NaN</td>\n",
       "      <td>Education</td>\n",
       "      <td>NaN</td>\n",
       "      <td>NaN</td>\n",
       "      <td>NaN</td>\n",
       "      <td>Office</td>\n",
       "      <td>NaN</td>\n",
       "      <td>10135.0</td>\n",
       "      <td>941.571905</td>\n",
       "      <td>College/University</td>\n",
       "      <td>America/Phoenix</td>\n",
       "      <td>NaN</td>\n",
       "      <td>Alannah</td>\n",
       "      <td>Office</td>\n",
       "      <td>weather0.csv</td>\n",
       "      <td>schedule2.csv</td>\n",
       "    </tr>\n",
       "    <tr>\n",
       "      <th>4</th>\n",
       "      <td>Office_Aliyah</td>\n",
       "      <td>31/12/15 23:00</td>\n",
       "      <td>1/1/15 0:00</td>\n",
       "      <td>NaN</td>\n",
       "      <td>NaN</td>\n",
       "      <td>Education</td>\n",
       "      <td>NaN</td>\n",
       "      <td>NaN</td>\n",
       "      <td>NaN</td>\n",
       "      <td>Office</td>\n",
       "      <td>NaN</td>\n",
       "      <td>202435.0</td>\n",
       "      <td>18806.818810</td>\n",
       "      <td>College/University</td>\n",
       "      <td>America/Phoenix</td>\n",
       "      <td>1967</td>\n",
       "      <td>Aliyah</td>\n",
       "      <td>Office</td>\n",
       "      <td>weather0.csv</td>\n",
       "      <td>schedule2.csv</td>\n",
       "    </tr>\n",
       "  </tbody>\n",
       "</table>\n",
       "</div>"
      ],
      "text/plain": [
       "              uid         dataend    datastart  energystarscore heatingtype  \\\n",
       "0    Office_Abbey  31/12/15 23:00  1/1/15 0:00              NaN         NaN   \n",
       "1  Office_Abigail  31/12/15 23:00  1/1/15 0:00              NaN         NaN   \n",
       "2       Office_Al  31/12/15 23:00  1/1/15 0:00              NaN         NaN   \n",
       "3  Office_Alannah  31/12/15 23:00  1/1/15 0:00              NaN         NaN   \n",
       "4   Office_Aliyah  31/12/15 23:00  1/1/15 0:00              NaN         NaN   \n",
       "\n",
       "    industry mainheatingtype  numberoffloors  occupants primaryspaceusage  \\\n",
       "0  Education             NaN             NaN        NaN            Office   \n",
       "1  Education             NaN             NaN        NaN            Office   \n",
       "2  Education             NaN             NaN        NaN            Office   \n",
       "3  Education             NaN             NaN        NaN            Office   \n",
       "4  Education             NaN             NaN        NaN            Office   \n",
       "\n",
       "  rating      sqft           sqm         subindustry         timezone  \\\n",
       "0    NaN   74180.0   6891.544540  College/University  America/Phoenix   \n",
       "1    NaN    9703.0    901.437809  College/University  America/Phoenix   \n",
       "2    NaN  118966.0  11052.298300  College/University  America/Phoenix   \n",
       "3    NaN   10135.0    941.571905  College/University  America/Phoenix   \n",
       "4    NaN  202435.0  18806.818810  College/University  America/Phoenix   \n",
       "\n",
       "  yearbuilt nickname primaryspaceuse_abbrev newweatherfilename annualschedule  \n",
       "0      1930    Abbey                 Office       weather0.csv  schedule2.csv  \n",
       "1      1940  Abigail                 Office       weather0.csv  schedule2.csv  \n",
       "2      1988       Al                 Office       weather0.csv  schedule2.csv  \n",
       "3       NaN  Alannah                 Office       weather0.csv  schedule2.csv  \n",
       "4      1967   Aliyah                 Office       weather0.csv  schedule2.csv  "
      ]
     },
     "execution_count": 22,
     "metadata": {},
     "output_type": "execute_result"
    }
   ],
   "source": [
    "#test \n",
    "metadata.head()"
   ]
  },
  {
   "cell_type": "markdown",
   "metadata": {},
   "source": [
    "## <span style='color:blue'> 2.2 : Import the building data </span>\n",
    "\n",
    "We will import the building data based on the timezone and the industry"
   ]
  },
  {
   "cell_type": "code",
   "execution_count": 6,
   "metadata": {},
   "outputs": [],
   "source": [
    "#creating a list of all possible timezones and industries  in order to validate the user input\n",
    "Timezone_data={'America/New_York','Europe/London','America/Phoenix','America/Chicago','America/Los_Angeles','Euope/Zurich','Asia/Singapore','America/Denver'}\n",
    "Industry_data={'Education','Government','Commercial Property'}"
   ]
  },
  {
   "cell_type": "code",
   "execution_count": 10,
   "metadata": {},
   "outputs": [
    {
     "name": "stdin",
     "output_type": "stream",
     "text": [
      "please enter Timezone America/Chicago\n"
     ]
    }
   ],
   "source": [
    "#store  the timezone user input\n",
    "while True:\n",
    "    Timezone = str(input(\"please enter Timezone\"))\n",
    "    if Timezone not in Timezone_data:\n",
    "        print(\"This is invalid ans\")\n",
    "        continue\n",
    "    else: \n",
    "        break"
   ]
  },
  {
   "cell_type": "code",
   "execution_count": 11,
   "metadata": {},
   "outputs": [
    {
     "name": "stdin",
     "output_type": "stream",
     "text": [
      "please enter Industry Education\n"
     ]
    }
   ],
   "source": [
    "#store the industry user input\n",
    "while True:\n",
    "    Industry = str(input(\"please enter Industry\"))\n",
    "    if Industry not in Industry_data:\n",
    "        print(\"This is invalid ans\")\n",
    "        continue\n",
    "    else: \n",
    "        break            "
   ]
  },
  {
   "cell_type": "markdown",
   "metadata": {},
   "source": [
    "## based on the user inputs for Timezone and Industry is how we'll filter our data"
   ]
  },
  {
   "cell_type": "code",
   "execution_count": 13,
   "metadata": {},
   "outputs": [
    {
     "data": {
      "text/html": [
       "<div>\n",
       "<style scoped>\n",
       "    .dataframe tbody tr th:only-of-type {\n",
       "        vertical-align: middle;\n",
       "    }\n",
       "\n",
       "    .dataframe tbody tr th {\n",
       "        vertical-align: top;\n",
       "    }\n",
       "\n",
       "    .dataframe thead th {\n",
       "        text-align: right;\n",
       "    }\n",
       "</style>\n",
       "<table border=\"1\" class=\"dataframe\">\n",
       "  <thead>\n",
       "    <tr style=\"text-align: right;\">\n",
       "      <th></th>\n",
       "      <th>uid</th>\n",
       "      <th>newweatherfilename</th>\n",
       "    </tr>\n",
       "  </thead>\n",
       "  <tbody>\n",
       "    <tr>\n",
       "      <th>90</th>\n",
       "      <td>Office_Mada</td>\n",
       "      <td>weather3.csv</td>\n",
       "    </tr>\n",
       "    <tr>\n",
       "      <th>91</th>\n",
       "      <td>Office_Madeleine</td>\n",
       "      <td>weather3.csv</td>\n",
       "    </tr>\n",
       "    <tr>\n",
       "      <th>92</th>\n",
       "      <td>Office_Madisyn</td>\n",
       "      <td>weather3.csv</td>\n",
       "    </tr>\n",
       "    <tr>\n",
       "      <th>93</th>\n",
       "      <td>Office_Malik</td>\n",
       "      <td>weather3.csv</td>\n",
       "    </tr>\n",
       "    <tr>\n",
       "      <th>94</th>\n",
       "      <td>Office_Marc</td>\n",
       "      <td>weather3.csv</td>\n",
       "    </tr>\n",
       "    <tr>\n",
       "      <th>...</th>\n",
       "      <td>...</td>\n",
       "      <td>...</td>\n",
       "    </tr>\n",
       "    <tr>\n",
       "      <th>484</th>\n",
       "      <td>UnivLab_Marie</td>\n",
       "      <td>weather3.csv</td>\n",
       "    </tr>\n",
       "    <tr>\n",
       "      <th>485</th>\n",
       "      <td>UnivLab_Mario</td>\n",
       "      <td>weather3.csv</td>\n",
       "    </tr>\n",
       "    <tr>\n",
       "      <th>486</th>\n",
       "      <td>UnivLab_Marshall</td>\n",
       "      <td>weather3.csv</td>\n",
       "    </tr>\n",
       "    <tr>\n",
       "      <th>487</th>\n",
       "      <td>UnivLab_Miles</td>\n",
       "      <td>weather3.csv</td>\n",
       "    </tr>\n",
       "    <tr>\n",
       "      <th>488</th>\n",
       "      <td>UnivLab_Neil</td>\n",
       "      <td>weather9.csv</td>\n",
       "    </tr>\n",
       "  </tbody>\n",
       "</table>\n",
       "<p>75 rows × 2 columns</p>\n",
       "</div>"
      ],
      "text/plain": [
       "                  uid newweatherfilename\n",
       "90        Office_Mada       weather3.csv\n",
       "91   Office_Madeleine       weather3.csv\n",
       "92     Office_Madisyn       weather3.csv\n",
       "93       Office_Malik       weather3.csv\n",
       "94        Office_Marc       weather3.csv\n",
       "..                ...                ...\n",
       "484     UnivLab_Marie       weather3.csv\n",
       "485     UnivLab_Mario       weather3.csv\n",
       "486  UnivLab_Marshall       weather3.csv\n",
       "487     UnivLab_Miles       weather3.csv\n",
       "488      UnivLab_Neil       weather9.csv\n",
       "\n",
       "[75 rows x 2 columns]"
      ]
     },
     "execution_count": 13,
     "metadata": {},
     "output_type": "execute_result"
    }
   ],
   "source": [
    "#filter the data based on the timezone and industry\n",
    "filtered_metadata = metadata.loc[(metadata['timezone']==Timezone) & (metadata['industry']==Industry)]\n",
    "\n",
    "#load the filtered data \n",
    "filtered_metadata[['uid','newweatherfilename']]"
   ]
  },
  {
   "cell_type": "markdown",
   "metadata": {},
   "source": [
    "# <span style='color:blue'> Task 3  : Asses the data for quality and tidy issues.   </span>\n",
    "\n",
    "### Characteristics of tidy data  are : \n",
    "\n",
    "1) Each  Column contains one varible.\n",
    "<br>\n",
    "2) Each observation is stored in a row . \n",
    "<br>\n",
    "3) Each type of observational unit forms a table \n",
    "\n",
    "### Characteristics of quality data  are : \n",
    "\n",
    "1) Completeness \n",
    "<br>\n",
    "2) Validity \n",
    "<br>\n",
    "3) Accuracy \n",
    "<br>\n",
    "4) Consistency"
   ]
  },
  {
   "cell_type": "markdown",
   "metadata": {},
   "source": [
    "## <span style='color:blue'> 3.1 : Load the corresponding files   </span>"
   ]
  },
  {
   "cell_type": "code",
   "execution_count": 16,
   "metadata": {},
   "outputs": [
    {
     "data": {
      "text/html": [
       "<div>\n",
       "<style scoped>\n",
       "    .dataframe tbody tr th:only-of-type {\n",
       "        vertical-align: middle;\n",
       "    }\n",
       "\n",
       "    .dataframe tbody tr th {\n",
       "        vertical-align: top;\n",
       "    }\n",
       "\n",
       "    .dataframe thead th {\n",
       "        text-align: right;\n",
       "    }\n",
       "</style>\n",
       "<table border=\"1\" class=\"dataframe\">\n",
       "  <thead>\n",
       "    <tr style=\"text-align: right;\">\n",
       "      <th></th>\n",
       "      <th>timestamp</th>\n",
       "      <th>Conditions</th>\n",
       "      <th>DateUTC&lt;br /&gt;</th>\n",
       "      <th>Dew PointC</th>\n",
       "      <th>Events</th>\n",
       "      <th>Gust SpeedKm/h</th>\n",
       "      <th>Humidity</th>\n",
       "      <th>Precipitationmm</th>\n",
       "      <th>Sea Level PressurehPa</th>\n",
       "      <th>TemperatureC</th>\n",
       "      <th>TimeCDT</th>\n",
       "      <th>TimeCST</th>\n",
       "      <th>VisibilityKm</th>\n",
       "      <th>Wind Direction</th>\n",
       "      <th>Wind SpeedKm/h</th>\n",
       "      <th>WindDirDegrees</th>\n",
       "      <th>timestamp.1</th>\n",
       "    </tr>\n",
       "  </thead>\n",
       "  <tbody>\n",
       "    <tr>\n",
       "      <th>0</th>\n",
       "      <td>2014-05-01 00:53:00</td>\n",
       "      <td>Light Drizzle</td>\n",
       "      <td>2014-05-01 05:53:00&lt;br /&gt;</td>\n",
       "      <td>3.9</td>\n",
       "      <td>NaN</td>\n",
       "      <td>-</td>\n",
       "      <td>100.0</td>\n",
       "      <td>0.0</td>\n",
       "      <td>1007.3</td>\n",
       "      <td>3.9</td>\n",
       "      <td>12:53 AM</td>\n",
       "      <td>NaN</td>\n",
       "      <td>6.4</td>\n",
       "      <td>NNW</td>\n",
       "      <td>18.5</td>\n",
       "      <td>330</td>\n",
       "      <td>2014-05-01 00:53:00</td>\n",
       "    </tr>\n",
       "    <tr>\n",
       "      <th>1</th>\n",
       "      <td>2014-05-01 01:01:00</td>\n",
       "      <td>Overcast</td>\n",
       "      <td>2014-05-01 06:01:00&lt;br /&gt;</td>\n",
       "      <td>3.9</td>\n",
       "      <td>NaN</td>\n",
       "      <td>-</td>\n",
       "      <td>100.0</td>\n",
       "      <td>0.0</td>\n",
       "      <td>1006.7</td>\n",
       "      <td>3.9</td>\n",
       "      <td>1:01 AM</td>\n",
       "      <td>NaN</td>\n",
       "      <td>8.0</td>\n",
       "      <td>NNW</td>\n",
       "      <td>18.5</td>\n",
       "      <td>330</td>\n",
       "      <td>2014-05-01 01:01:00</td>\n",
       "    </tr>\n",
       "    <tr>\n",
       "      <th>2</th>\n",
       "      <td>2014-05-01 01:10:00</td>\n",
       "      <td>Overcast</td>\n",
       "      <td>2014-05-01 06:10:00&lt;br /&gt;</td>\n",
       "      <td>3.9</td>\n",
       "      <td>NaN</td>\n",
       "      <td>-</td>\n",
       "      <td>100.0</td>\n",
       "      <td>0.0</td>\n",
       "      <td>1006.7</td>\n",
       "      <td>3.9</td>\n",
       "      <td>1:10 AM</td>\n",
       "      <td>NaN</td>\n",
       "      <td>12.9</td>\n",
       "      <td>NW</td>\n",
       "      <td>18.5</td>\n",
       "      <td>320</td>\n",
       "      <td>2014-05-01 01:10:00</td>\n",
       "    </tr>\n",
       "    <tr>\n",
       "      <th>3</th>\n",
       "      <td>2014-05-01 01:19:00</td>\n",
       "      <td>Overcast</td>\n",
       "      <td>2014-05-01 06:19:00&lt;br /&gt;</td>\n",
       "      <td>3.9</td>\n",
       "      <td>NaN</td>\n",
       "      <td>-</td>\n",
       "      <td>100.0</td>\n",
       "      <td>0.0</td>\n",
       "      <td>1006.7</td>\n",
       "      <td>3.9</td>\n",
       "      <td>1:19 AM</td>\n",
       "      <td>NaN</td>\n",
       "      <td>14.5</td>\n",
       "      <td>NNW</td>\n",
       "      <td>20.4</td>\n",
       "      <td>340</td>\n",
       "      <td>2014-05-01 01:19:00</td>\n",
       "    </tr>\n",
       "    <tr>\n",
       "      <th>4</th>\n",
       "      <td>2014-05-01 01:29:00</td>\n",
       "      <td>Overcast</td>\n",
       "      <td>2014-05-01 06:29:00&lt;br /&gt;</td>\n",
       "      <td>3.3</td>\n",
       "      <td>NaN</td>\n",
       "      <td>-</td>\n",
       "      <td>93.0</td>\n",
       "      <td>0.0</td>\n",
       "      <td>1006.3</td>\n",
       "      <td>4.4</td>\n",
       "      <td>1:29 AM</td>\n",
       "      <td>NaN</td>\n",
       "      <td>16.1</td>\n",
       "      <td>NNW</td>\n",
       "      <td>16.7</td>\n",
       "      <td>330</td>\n",
       "      <td>2014-05-01 01:29:00</td>\n",
       "    </tr>\n",
       "  </tbody>\n",
       "</table>\n",
       "</div>"
      ],
      "text/plain": [
       "             timestamp     Conditions              DateUTC<br />  Dew PointC  \\\n",
       "0  2014-05-01 00:53:00  Light Drizzle  2014-05-01 05:53:00<br />         3.9   \n",
       "1  2014-05-01 01:01:00       Overcast  2014-05-01 06:01:00<br />         3.9   \n",
       "2  2014-05-01 01:10:00       Overcast  2014-05-01 06:10:00<br />         3.9   \n",
       "3  2014-05-01 01:19:00       Overcast  2014-05-01 06:19:00<br />         3.9   \n",
       "4  2014-05-01 01:29:00       Overcast  2014-05-01 06:29:00<br />         3.3   \n",
       "\n",
       "  Events Gust SpeedKm/h  Humidity  Precipitationmm  Sea Level PressurehPa  \\\n",
       "0    NaN              -     100.0              0.0                 1007.3   \n",
       "1    NaN              -     100.0              0.0                 1006.7   \n",
       "2    NaN              -     100.0              0.0                 1006.7   \n",
       "3    NaN              -     100.0              0.0                 1006.7   \n",
       "4    NaN              -      93.0              0.0                 1006.3   \n",
       "\n",
       "   TemperatureC   TimeCDT TimeCST  VisibilityKm Wind Direction Wind SpeedKm/h  \\\n",
       "0           3.9  12:53 AM     NaN           6.4            NNW           18.5   \n",
       "1           3.9   1:01 AM     NaN           8.0            NNW           18.5   \n",
       "2           3.9   1:10 AM     NaN          12.9             NW           18.5   \n",
       "3           3.9   1:19 AM     NaN          14.5            NNW           20.4   \n",
       "4           4.4   1:29 AM     NaN          16.1            NNW           16.7   \n",
       "\n",
       "   WindDirDegrees          timestamp.1  \n",
       "0             330  2014-05-01 00:53:00  \n",
       "1             330  2014-05-01 01:01:00  \n",
       "2             320  2014-05-01 01:10:00  \n",
       "3             340  2014-05-01 01:19:00  \n",
       "4             330  2014-05-01 01:29:00  "
      ]
     },
     "execution_count": 16,
     "metadata": {},
     "output_type": "execute_result"
    }
   ],
   "source": [
    "#Save the building name to building_file  \n",
    "building_file = filtered_metadata['uid'].values[0]+'.csv'\n",
    "\n",
    "#load the data of the first building\n",
    "building_data = pd.read_csv(\"data/{}\".format(building_file))\n",
    "\n",
    "#Save the weather file name to weather_file\n",
    "weather_file = filtered_metadata['newweatherfilename'].values[0]\n",
    "\n",
    "# load the weather data \n",
    "weather_data = pd.read_csv(\"data/{}\".format(weather_file))\n",
    "\n",
    "#Test:Show the first five rows of the building data \n",
    "building_data.head()\n",
    "#Test : Show the first five rows of the weather data\n",
    "weather_data.head()"
   ]
  },
  {
   "cell_type": "code",
   "execution_count": 17,
   "metadata": {},
   "outputs": [
    {
     "data": {
      "text/html": [
       "<div>\n",
       "<style scoped>\n",
       "    .dataframe tbody tr th:only-of-type {\n",
       "        vertical-align: middle;\n",
       "    }\n",
       "\n",
       "    .dataframe tbody tr th {\n",
       "        vertical-align: top;\n",
       "    }\n",
       "\n",
       "    .dataframe thead th {\n",
       "        text-align: right;\n",
       "    }\n",
       "</style>\n",
       "<table border=\"1\" class=\"dataframe\">\n",
       "  <thead>\n",
       "    <tr style=\"text-align: right;\">\n",
       "      <th></th>\n",
       "      <th>timestamp</th>\n",
       "      <th>Office_Mada</th>\n",
       "    </tr>\n",
       "  </thead>\n",
       "  <tbody>\n",
       "    <tr>\n",
       "      <th>0</th>\n",
       "      <td>2014-05-01 00:00:00</td>\n",
       "      <td>46.50</td>\n",
       "    </tr>\n",
       "    <tr>\n",
       "      <th>1</th>\n",
       "      <td>2014-05-01 01:00:00</td>\n",
       "      <td>43.50</td>\n",
       "    </tr>\n",
       "    <tr>\n",
       "      <th>2</th>\n",
       "      <td>2014-05-01 02:00:00</td>\n",
       "      <td>45.00</td>\n",
       "    </tr>\n",
       "    <tr>\n",
       "      <th>3</th>\n",
       "      <td>2014-05-01 03:00:00</td>\n",
       "      <td>45.75</td>\n",
       "    </tr>\n",
       "    <tr>\n",
       "      <th>4</th>\n",
       "      <td>2014-05-01 04:00:00</td>\n",
       "      <td>45.25</td>\n",
       "    </tr>\n",
       "  </tbody>\n",
       "</table>\n",
       "</div>"
      ],
      "text/plain": [
       "             timestamp  Office_Mada\n",
       "0  2014-05-01 00:00:00        46.50\n",
       "1  2014-05-01 01:00:00        43.50\n",
       "2  2014-05-01 02:00:00        45.00\n",
       "3  2014-05-01 03:00:00        45.75\n",
       "4  2014-05-01 04:00:00        45.25"
      ]
     },
     "execution_count": 17,
     "metadata": {},
     "output_type": "execute_result"
    }
   ],
   "source": [
    "#Visual assessment : \n",
    "building_data.head()\n"
   ]
  },
  {
   "cell_type": "code",
   "execution_count": 18,
   "metadata": {},
   "outputs": [
    {
     "data": {
      "text/html": [
       "<div>\n",
       "<style scoped>\n",
       "    .dataframe tbody tr th:only-of-type {\n",
       "        vertical-align: middle;\n",
       "    }\n",
       "\n",
       "    .dataframe tbody tr th {\n",
       "        vertical-align: top;\n",
       "    }\n",
       "\n",
       "    .dataframe thead th {\n",
       "        text-align: right;\n",
       "    }\n",
       "</style>\n",
       "<table border=\"1\" class=\"dataframe\">\n",
       "  <thead>\n",
       "    <tr style=\"text-align: right;\">\n",
       "      <th></th>\n",
       "      <th>timestamp</th>\n",
       "      <th>Conditions</th>\n",
       "      <th>DateUTC&lt;br /&gt;</th>\n",
       "      <th>Dew PointC</th>\n",
       "      <th>Events</th>\n",
       "      <th>Gust SpeedKm/h</th>\n",
       "      <th>Humidity</th>\n",
       "      <th>Precipitationmm</th>\n",
       "      <th>Sea Level PressurehPa</th>\n",
       "      <th>TemperatureC</th>\n",
       "      <th>TimeCDT</th>\n",
       "      <th>TimeCST</th>\n",
       "      <th>VisibilityKm</th>\n",
       "      <th>Wind Direction</th>\n",
       "      <th>Wind SpeedKm/h</th>\n",
       "      <th>WindDirDegrees</th>\n",
       "      <th>timestamp.1</th>\n",
       "    </tr>\n",
       "  </thead>\n",
       "  <tbody>\n",
       "    <tr>\n",
       "      <th>0</th>\n",
       "      <td>2014-05-01 00:53:00</td>\n",
       "      <td>Light Drizzle</td>\n",
       "      <td>2014-05-01 05:53:00&lt;br /&gt;</td>\n",
       "      <td>3.9</td>\n",
       "      <td>NaN</td>\n",
       "      <td>-</td>\n",
       "      <td>100.0</td>\n",
       "      <td>0.0</td>\n",
       "      <td>1007.3</td>\n",
       "      <td>3.9</td>\n",
       "      <td>12:53 AM</td>\n",
       "      <td>NaN</td>\n",
       "      <td>6.4</td>\n",
       "      <td>NNW</td>\n",
       "      <td>18.5</td>\n",
       "      <td>330</td>\n",
       "      <td>2014-05-01 00:53:00</td>\n",
       "    </tr>\n",
       "    <tr>\n",
       "      <th>1</th>\n",
       "      <td>2014-05-01 01:01:00</td>\n",
       "      <td>Overcast</td>\n",
       "      <td>2014-05-01 06:01:00&lt;br /&gt;</td>\n",
       "      <td>3.9</td>\n",
       "      <td>NaN</td>\n",
       "      <td>-</td>\n",
       "      <td>100.0</td>\n",
       "      <td>0.0</td>\n",
       "      <td>1006.7</td>\n",
       "      <td>3.9</td>\n",
       "      <td>1:01 AM</td>\n",
       "      <td>NaN</td>\n",
       "      <td>8.0</td>\n",
       "      <td>NNW</td>\n",
       "      <td>18.5</td>\n",
       "      <td>330</td>\n",
       "      <td>2014-05-01 01:01:00</td>\n",
       "    </tr>\n",
       "    <tr>\n",
       "      <th>2</th>\n",
       "      <td>2014-05-01 01:10:00</td>\n",
       "      <td>Overcast</td>\n",
       "      <td>2014-05-01 06:10:00&lt;br /&gt;</td>\n",
       "      <td>3.9</td>\n",
       "      <td>NaN</td>\n",
       "      <td>-</td>\n",
       "      <td>100.0</td>\n",
       "      <td>0.0</td>\n",
       "      <td>1006.7</td>\n",
       "      <td>3.9</td>\n",
       "      <td>1:10 AM</td>\n",
       "      <td>NaN</td>\n",
       "      <td>12.9</td>\n",
       "      <td>NW</td>\n",
       "      <td>18.5</td>\n",
       "      <td>320</td>\n",
       "      <td>2014-05-01 01:10:00</td>\n",
       "    </tr>\n",
       "    <tr>\n",
       "      <th>3</th>\n",
       "      <td>2014-05-01 01:19:00</td>\n",
       "      <td>Overcast</td>\n",
       "      <td>2014-05-01 06:19:00&lt;br /&gt;</td>\n",
       "      <td>3.9</td>\n",
       "      <td>NaN</td>\n",
       "      <td>-</td>\n",
       "      <td>100.0</td>\n",
       "      <td>0.0</td>\n",
       "      <td>1006.7</td>\n",
       "      <td>3.9</td>\n",
       "      <td>1:19 AM</td>\n",
       "      <td>NaN</td>\n",
       "      <td>14.5</td>\n",
       "      <td>NNW</td>\n",
       "      <td>20.4</td>\n",
       "      <td>340</td>\n",
       "      <td>2014-05-01 01:19:00</td>\n",
       "    </tr>\n",
       "    <tr>\n",
       "      <th>4</th>\n",
       "      <td>2014-05-01 01:29:00</td>\n",
       "      <td>Overcast</td>\n",
       "      <td>2014-05-01 06:29:00&lt;br /&gt;</td>\n",
       "      <td>3.3</td>\n",
       "      <td>NaN</td>\n",
       "      <td>-</td>\n",
       "      <td>93.0</td>\n",
       "      <td>0.0</td>\n",
       "      <td>1006.3</td>\n",
       "      <td>4.4</td>\n",
       "      <td>1:29 AM</td>\n",
       "      <td>NaN</td>\n",
       "      <td>16.1</td>\n",
       "      <td>NNW</td>\n",
       "      <td>16.7</td>\n",
       "      <td>330</td>\n",
       "      <td>2014-05-01 01:29:00</td>\n",
       "    </tr>\n",
       "  </tbody>\n",
       "</table>\n",
       "</div>"
      ],
      "text/plain": [
       "             timestamp     Conditions              DateUTC<br />  Dew PointC  \\\n",
       "0  2014-05-01 00:53:00  Light Drizzle  2014-05-01 05:53:00<br />         3.9   \n",
       "1  2014-05-01 01:01:00       Overcast  2014-05-01 06:01:00<br />         3.9   \n",
       "2  2014-05-01 01:10:00       Overcast  2014-05-01 06:10:00<br />         3.9   \n",
       "3  2014-05-01 01:19:00       Overcast  2014-05-01 06:19:00<br />         3.9   \n",
       "4  2014-05-01 01:29:00       Overcast  2014-05-01 06:29:00<br />         3.3   \n",
       "\n",
       "  Events Gust SpeedKm/h  Humidity  Precipitationmm  Sea Level PressurehPa  \\\n",
       "0    NaN              -     100.0              0.0                 1007.3   \n",
       "1    NaN              -     100.0              0.0                 1006.7   \n",
       "2    NaN              -     100.0              0.0                 1006.7   \n",
       "3    NaN              -     100.0              0.0                 1006.7   \n",
       "4    NaN              -      93.0              0.0                 1006.3   \n",
       "\n",
       "   TemperatureC   TimeCDT TimeCST  VisibilityKm Wind Direction Wind SpeedKm/h  \\\n",
       "0           3.9  12:53 AM     NaN           6.4            NNW           18.5   \n",
       "1           3.9   1:01 AM     NaN           8.0            NNW           18.5   \n",
       "2           3.9   1:10 AM     NaN          12.9             NW           18.5   \n",
       "3           3.9   1:19 AM     NaN          14.5            NNW           20.4   \n",
       "4           4.4   1:29 AM     NaN          16.1            NNW           16.7   \n",
       "\n",
       "   WindDirDegrees          timestamp.1  \n",
       "0             330  2014-05-01 00:53:00  \n",
       "1             330  2014-05-01 01:01:00  \n",
       "2             320  2014-05-01 01:10:00  \n",
       "3             340  2014-05-01 01:19:00  \n",
       "4             330  2014-05-01 01:29:00  "
      ]
     },
     "execution_count": 18,
     "metadata": {},
     "output_type": "execute_result"
    }
   ],
   "source": [
    "#Visual assessment :\n",
    "weather_data.head()\n"
   ]
  },
  {
   "cell_type": "code",
   "execution_count": 19,
   "metadata": {},
   "outputs": [
    {
     "name": "stdout",
     "output_type": "stream",
     "text": [
      "<class 'pandas.core.frame.DataFrame'>\n",
      "RangeIndex: 8760 entries, 0 to 8759\n",
      "Data columns (total 2 columns):\n",
      " #   Column       Non-Null Count  Dtype  \n",
      "---  ------       --------------  -----  \n",
      " 0   timestamp    8760 non-null   object \n",
      " 1   Office_Mada  8760 non-null   float64\n",
      "dtypes: float64(1), object(1)\n",
      "memory usage: 137.0+ KB\n"
     ]
    }
   ],
   "source": [
    "#Programmatic assessment : \n",
    "building_data.info()\n"
   ]
  },
  {
   "cell_type": "code",
   "execution_count": 20,
   "metadata": {},
   "outputs": [
    {
     "name": "stdout",
     "output_type": "stream",
     "text": [
      "<class 'pandas.core.frame.DataFrame'>\n",
      "RangeIndex: 10810 entries, 0 to 10809\n",
      "Data columns (total 17 columns):\n",
      " #   Column                 Non-Null Count  Dtype  \n",
      "---  ------                 --------------  -----  \n",
      " 0   timestamp              10810 non-null  object \n",
      " 1   Conditions             10810 non-null  object \n",
      " 2   DateUTC<br />          10810 non-null  object \n",
      " 3   Dew PointC             10810 non-null  float64\n",
      " 4   Events                 1573 non-null   object \n",
      " 5   Gust SpeedKm/h         10810 non-null  object \n",
      " 6   Humidity               10809 non-null  float64\n",
      " 7   Precipitationmm        1968 non-null   float64\n",
      " 8   Sea Level PressurehPa  10810 non-null  float64\n",
      " 9   TemperatureC           10810 non-null  float64\n",
      " 10  TimeCDT                6816 non-null   object \n",
      " 11  TimeCST                3994 non-null   object \n",
      " 12  VisibilityKm           10810 non-null  float64\n",
      " 13  Wind Direction         10810 non-null  object \n",
      " 14  Wind SpeedKm/h         10810 non-null  object \n",
      " 15  WindDirDegrees         10810 non-null  int64  \n",
      " 16  timestamp.1            10810 non-null  object \n",
      "dtypes: float64(6), int64(1), object(10)\n",
      "memory usage: 1.4+ MB\n"
     ]
    }
   ],
   "source": [
    "#Programmatic assessment : \n",
    "weather_data.info()\n"
   ]
  },
  {
   "cell_type": "markdown",
   "metadata": {},
   "source": [
    "#    Quality Issues:\n",
    "\n",
    "####  1)Timestamp data type is not of datime object\n",
    "####  2)There are unwanted columns that need to be dropped\n",
    "####  3)there are nulls\n",
    "####  4)bad column names\n",
    "\n",
    "#    Tidiness Issues:\n",
    "\n",
    "####  1)The two datasets are not merged in one set\n",
    "####  2)there are two timestampe columns in the weather data file\n",
    "     "
   ]
  },
  {
   "cell_type": "markdown",
   "metadata": {},
   "source": [
    "## <span style='color:blue'> Task 4  : Clean the data   </span>\n"
   ]
  },
  {
   "cell_type": "code",
   "execution_count": null,
   "metadata": {},
   "outputs": [],
   "source": [
    "# convert timestamp data type to datetime\n",
    "\n",
    " #rename columns \n"
   ]
  },
  {
   "cell_type": "code",
   "execution_count": null,
   "metadata": {},
   "outputs": [],
   "source": [
    "# convert timestamp data type to datetime\n",
    "\n"
   ]
  },
  {
   "cell_type": "code",
   "execution_count": null,
   "metadata": {},
   "outputs": [],
   "source": [
    "#Drop unwanted columns \n",
    "\n"
   ]
  },
  {
   "cell_type": "code",
   "execution_count": null,
   "metadata": {},
   "outputs": [],
   "source": [
    "#Resample the weather data , as it is essential to resample the data before merging the two data frames\n",
    "# set the time stamp column as the index\n",
    "\n",
    " # resample the data hourly \n"
   ]
  },
  {
   "cell_type": "code",
   "execution_count": null,
   "metadata": {},
   "outputs": [],
   "source": [
    "#Resample the building data , as it is essential to resample the data before merging the two data frames\n",
    "# set the time stamp column as the index\n",
    "\n",
    " # resample the data hourly \n"
   ]
  },
  {
   "cell_type": "code",
   "execution_count": null,
   "metadata": {},
   "outputs": [],
   "source": [
    "# Merge the two dataframes \n",
    "\n",
    "# fill null values\n",
    "\n",
    "#test"
   ]
  },
  {
   "cell_type": "markdown",
   "metadata": {},
   "source": [
    "# <span style='color:blue'> Task 5: Normalize the dataset  </span>"
   ]
  },
  {
   "cell_type": "markdown",
   "metadata": {},
   "source": [
    "## <span style='color:blue'> Task 5.1: Normalize the dataset   </span>\n",
    "The goal of normalization is to change the values of numeric columns in the dataset to a common scale . It is required when features have different ranges. "
   ]
  },
  {
   "cell_type": "code",
   "execution_count": null,
   "metadata": {},
   "outputs": [],
   "source": [
    "#normalize the data by subtracting the column  mean from each observation and then dividing by the standard deviation\n"
   ]
  },
  {
   "cell_type": "markdown",
   "metadata": {},
   "source": [
    "## <span style='color:blue'> Task 5.2: Revert label function </span>\n",
    "\n",
    "Because we are using normalized values for labels , we will get the predictions in the same normalized distribution . So, we need to revert back the normalized label (KWH) to the original distribution if we want the predicted KWH consumption ."
   ]
  },
  {
   "cell_type": "code",
   "execution_count": null,
   "metadata": {},
   "outputs": [],
   "source": [
    "\n",
    "\n",
    "#make the revert_label_value function to revert back the normalized label to its original distribution\n"
   ]
  },
  {
   "cell_type": "markdown",
   "metadata": {},
   "source": [
    "# <span style='color:blue'> Task 6 : Create train and test data sets  </span>\n",
    "\n",
    "1) Train set is used in the learning processs to fit the parameters \n",
    "<br>\n",
    "2) Test set is independent of the training set , it is conisdered to be a set of examples used to assess the model performance. \n",
    "<br>\n",
    "3) Dataframe label is the label we want to predict . in our case it is the KWH consumptionDataframe label is the label we want to predict . in our case it is the KWH consumption\n",
    "<br>\n",
    "4) Dataframe features are the features that influence our label . in our case the features are the day of the week , exact hour  , temperature and humidity"
   ]
  },
  {
   "cell_type": "markdown",
   "metadata": {},
   "source": [
    "## <span style='color:blue'> Task 6.1 : Split the train and test datasets  </span>"
   ]
  },
  {
   "cell_type": "code",
   "execution_count": null,
   "metadata": {},
   "outputs": [],
   "source": [
    "# Create the train set \n",
    "\n",
    "# Create the test set\n",
    " "
   ]
  },
  {
   "cell_type": "markdown",
   "metadata": {},
   "source": [
    "## <span style='color:blue'> Task 6.2 : select labels  </span>"
   ]
  },
  {
   "cell_type": "code",
   "execution_count": null,
   "metadata": {},
   "outputs": [],
   "source": [
    "#select the label for the train set \n",
    "\n",
    "#select the label for the test set \n"
   ]
  },
  {
   "cell_type": "markdown",
   "metadata": {},
   "source": [
    "## <span style='color:blue'> Task 6.3 : Select features </span>\n",
    "\n",
    "Machine learning models require all input and output variables to be numeric.\n",
    "<br>\n",
    "This means that we must encode the timestamp to numbers before we can fit and evaluate a model."
   ]
  },
  {
   "cell_type": "code",
   "execution_count": null,
   "metadata": {},
   "outputs": [],
   "source": [
    "#Encode train features\n",
    "\n",
    "#Encode test features \n"
   ]
  },
  {
   "cell_type": "markdown",
   "metadata": {},
   "source": [
    "# <span style='color:blue'> Task 7 : Create the prediction model</span>"
   ]
  },
  {
   "cell_type": "markdown",
   "metadata": {},
   "source": [
    "## <span style='color:blue'> Task 7.1 : Fit the model </span>\n",
    "The KNN algorithm uses ‘feature similarity’ to predict the values of any new data points. This means that the new point is assigned a value based on how closely it resembles the points in the training set"
   ]
  },
  {
   "cell_type": "code",
   "execution_count": null,
   "metadata": {},
   "outputs": [],
   "source": [
    "\n",
    "\n",
    "# predict KWH consumption For the Test set\n"
   ]
  },
  {
   "cell_type": "code",
   "execution_count": null,
   "metadata": {},
   "outputs": [],
   "source": [
    "#Test\n"
   ]
  },
  {
   "cell_type": "markdown",
   "metadata": {},
   "source": [
    "## <span style='color:blue'> Task 7.2 : Covert the labels to the original distribution </span>\n",
    "we want to have the predicted & Test values in the original distributions. "
   ]
  },
  {
   "cell_type": "code",
   "execution_count": null,
   "metadata": {},
   "outputs": [],
   "source": [
    "# Convert predict to Dataframe\n",
    "\n",
    "#Give name to the predict column\n",
    "\n",
    "#revert back the distribution to the original distribution\n",
    "\n",
    "#Test\n",
    "\n",
    "#revert back the distribution to the original distribution\n",
    "\n",
    "#Test\n"
   ]
  },
  {
   "cell_type": "markdown",
   "metadata": {},
   "source": [
    "## <span style='color:blue'> Task 7.3 : visualize the predictions </span>\n",
    "We will compare between the predicted label and the test set label to check how good our model predicted the test label.  "
   ]
  },
  {
   "cell_type": "code",
   "execution_count": null,
   "metadata": {},
   "outputs": [],
   "source": [
    "# merge the actual test set with the predicted one\n",
    "\n",
    "#name the columns \n",
    "\n",
    "#Test\n"
   ]
  },
  {
   "cell_type": "code",
   "execution_count": null,
   "metadata": {},
   "outputs": [],
   "source": [
    "#comparison set\n"
   ]
  },
  {
   "cell_type": "code",
   "execution_count": null,
   "metadata": {},
   "outputs": [],
   "source": [
    "#plot set\n"
   ]
  }
 ],
 "metadata": {
  "kernelspec": {
   "display_name": "Python 3",
   "language": "python",
   "name": "python3"
  },
  "language_info": {
   "codemirror_mode": {
    "name": "ipython",
    "version": 3
   },
   "file_extension": ".py",
   "mimetype": "text/x-python",
   "name": "python",
   "nbconvert_exporter": "python",
   "pygments_lexer": "ipython3",
   "version": "3.8.3"
  }
 },
 "nbformat": 4,
 "nbformat_minor": 4
}
