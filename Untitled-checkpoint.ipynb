{
 "cells": [
  {
   "cell_type": "markdown",
   "metadata": {},
   "source": [
    "# <span style='color:red'> Predict electricity consumption of a building using Scikit-learn.   </span>"
   ]
  },
  {
   "cell_type": "markdown",
   "metadata": {},
   "source": [
    "# <span style='color:Blue'> Task one :import libraries and helper functions.   </span>"
   ]
  },
  {
   "cell_type": "code",
   "execution_count": null,
   "metadata": {},
   "outputs": [],
   "source": []
  },
  {
   "cell_type": "markdown",
   "metadata": {},
   "source": [
    " \n",
    "# <span style='color:blue'> Task two : Import the  the building dataset based on geographical location and usage in an interactive way</span>"
   ]
  },
  {
   "cell_type": "markdown",
   "metadata": {},
   "source": [
    "## <span style='color:blue'> 2.1 : Import the metadata file    </span>\n",
    "The metadata is saved in meta_open.csv file.We will use pandas to import the data  "
   ]
  },
  {
   "cell_type": "code",
   "execution_count": null,
   "metadata": {},
   "outputs": [],
   "source": [
    "#import the metadata file \n"
   ]
  },
  {
   "cell_type": "code",
   "execution_count": null,
   "metadata": {},
   "outputs": [],
   "source": [
    "#test \n"
   ]
  },
  {
   "cell_type": "markdown",
   "metadata": {},
   "source": [
    "## <span style='color:blue'> 2.2 : Import the building data </span>\n",
    "\n",
    "We will import the building data based on the timezone and the industry"
   ]
  },
  {
   "cell_type": "code",
   "execution_count": null,
   "metadata": {},
   "outputs": [],
   "source": [
    "#creating a list of all possible timezones and industries  in order to validate the user input\n",
    "Timezone_data={'America/New_York','Europe/London','America/Phoenix','America/Chicago','America/Los_Angeles','Euope/Zurich','Asia/Singapore','America/Denver'}\n",
    "Industry_data={'Education','Government','Commercial Property'}"
   ]
  },
  {
   "cell_type": "code",
   "execution_count": null,
   "metadata": {},
   "outputs": [],
   "source": [
    "#store  the timezone user input\n"
   ]
  },
  {
   "cell_type": "code",
   "execution_count": null,
   "metadata": {},
   "outputs": [],
   "source": [
    "#store the industry user input\n",
    "              "
   ]
  },
  {
   "cell_type": "code",
   "execution_count": null,
   "metadata": {},
   "outputs": [],
   "source": [
    "#filter the data based on the timezone and industry\n",
    "\n",
    "#load the filtered data \n"
   ]
  },
  {
   "cell_type": "code",
   "execution_count": null,
   "metadata": {},
   "outputs": [],
   "source": [
    "#load the data of the first building \n",
    "\n",
    "#Save the building name to building_file  \n",
    "\n",
    "\n",
    "#load the building data \n",
    "\n",
    "\n",
    "\n",
    "#Save the weather file name to weather_file \n",
    "\n",
    "\n",
    "# load the weather data \n"
   ]
  },
  {
   "cell_type": "markdown",
   "metadata": {},
   "source": [
    "# <span style='color:blue'> Task 3  : Asses the data for quality and tidy issues.   </span>\n",
    "\n",
    "### Characteristics of tidy data  are : \n",
    "\n",
    "1) Each  Column contains one varible.\n",
    "<br>\n",
    "2) Each observation is stored in a row . \n",
    "<br>\n",
    "3) Each type of observational unit forms a table \n",
    "\n",
    "### Characteristics of quality data  are : \n",
    "\n",
    "1) Completeness \n",
    "<br>\n",
    "2) Validity \n",
    "<br>\n",
    "3) Accuracy \n",
    "<br>\n",
    "4) Consistency"
   ]
  },
  {
   "cell_type": "markdown",
   "metadata": {},
   "source": [
    "## <span style='color:blue'> 3.1 : Asses the data for quality and tidiness issues   </span>\n",
    "\n",
    "There are two ways to asses the data which are visually and programatically "
   ]
  },
  {
   "cell_type": "code",
   "execution_count": null,
   "metadata": {},
   "outputs": [],
   "source": [
    "#Visual assessment : \n",
    "\n"
   ]
  },
  {
   "cell_type": "code",
   "execution_count": null,
   "metadata": {},
   "outputs": [],
   "source": [
    "#Visual assessment :\n",
    "\n"
   ]
  },
  {
   "cell_type": "code",
   "execution_count": null,
   "metadata": {},
   "outputs": [],
   "source": [
    "#Programmatic assessment : \n",
    "\n"
   ]
  },
  {
   "cell_type": "code",
   "execution_count": null,
   "metadata": {},
   "outputs": [],
   "source": [
    "#Programmatic assessment : \n",
    "\n"
   ]
  },
  {
   "cell_type": "code",
   "execution_count": null,
   "metadata": {},
   "outputs": [],
   "source": [
    "#Issues : "
   ]
  },
  {
   "cell_type": "markdown",
   "metadata": {},
   "source": [
    "## <span style='color:blue'> Task 4  : Clean the data   </span>\n"
   ]
  },
  {
   "cell_type": "code",
   "execution_count": null,
   "metadata": {},
   "outputs": [],
   "source": [
    "# convert timestamp data type to datetime\n",
    "\n",
    " #rename columns \n"
   ]
  },
  {
   "cell_type": "code",
   "execution_count": null,
   "metadata": {},
   "outputs": [],
   "source": [
    "# convert timestamp data type to datetime\n",
    "\n"
   ]
  },
  {
   "cell_type": "code",
   "execution_count": null,
   "metadata": {},
   "outputs": [],
   "source": [
    "#Drop unwanted columns \n",
    "\n"
   ]
  },
  {
   "cell_type": "code",
   "execution_count": null,
   "metadata": {},
   "outputs": [],
   "source": [
    "#Resample the weather data , as it is essential to resample the data before merging the two data frames\n",
    "# set the time stamp column as the index\n",
    "\n",
    " # resample the data hourly \n"
   ]
  },
  {
   "cell_type": "code",
   "execution_count": null,
   "metadata": {},
   "outputs": [],
   "source": [
    "#Resample the building data , as it is essential to resample the data before merging the two data frames\n",
    "# set the time stamp column as the index\n",
    "\n",
    " # resample the data hourly \n"
   ]
  },
  {
   "cell_type": "code",
   "execution_count": null,
   "metadata": {},
   "outputs": [],
   "source": [
    "# Merge the two dataframes \n",
    "\n",
    "# fill null values\n",
    "\n",
    "#test"
   ]
  },
  {
   "cell_type": "markdown",
   "metadata": {},
   "source": [
    "# <span style='color:blue'> Task 5: Normalize the dataset  </span>"
   ]
  },
  {
   "cell_type": "markdown",
   "metadata": {},
   "source": [
    "## <span style='color:blue'> Task 5.1: Normalize the dataset   </span>\n",
    "The goal of normalization is to change the values of numeric columns in the dataset to a common scale . It is required when features have different ranges. "
   ]
  },
  {
   "cell_type": "code",
   "execution_count": null,
   "metadata": {},
   "outputs": [],
   "source": [
    "#normalize the data by subtracting the column  mean from each observation and then dividing by the standard deviation\n"
   ]
  },
  {
   "cell_type": "markdown",
   "metadata": {},
   "source": [
    "## <span style='color:blue'> Task 5.2: Revert label function </span>\n",
    "\n",
    "Because we are using normalized values for labels , we will get the predictions in the same normalized distribution . So, we need to revert back the normalized label (KWH) to the original distribution if we want the predicted KWH consumption ."
   ]
  },
  {
   "cell_type": "code",
   "execution_count": null,
   "metadata": {},
   "outputs": [],
   "source": [
    "\n",
    "\n",
    "#make the revert_label_value function to revert back the normalized label to its original distribution\n"
   ]
  },
  {
   "cell_type": "markdown",
   "metadata": {},
   "source": [
    "# <span style='color:blue'> Task 6 : Create train and test data sets  </span>\n",
    "\n",
    "1) Train set is used in the learning processs to fit the parameters \n",
    "<br>\n",
    "2) Test set is independent of the training set , it is conisdered to be a set of examples used to assess the model performance. \n",
    "<br>\n",
    "3) Dataframe label is the label we want to predict . in our case it is the KWH consumptionDataframe label is the label we want to predict . in our case it is the KWH consumption\n",
    "<br>\n",
    "4) Dataframe features are the features that influence our label . in our case the features are the day of the week , exact hour  , temperature and humidity"
   ]
  },
  {
   "cell_type": "markdown",
   "metadata": {},
   "source": [
    "## <span style='color:blue'> Task 6.1 : Split the train and test datasets  </span>"
   ]
  },
  {
   "cell_type": "code",
   "execution_count": null,
   "metadata": {},
   "outputs": [],
   "source": [
    "# Create the train set \n",
    "\n",
    "# Create the test set\n",
    " "
   ]
  },
  {
   "cell_type": "markdown",
   "metadata": {},
   "source": [
    "## <span style='color:blue'> Task 6.2 : select labels  </span>"
   ]
  },
  {
   "cell_type": "code",
   "execution_count": null,
   "metadata": {},
   "outputs": [],
   "source": [
    "#select the label for the train set \n",
    "\n",
    "#select the label for the test set \n"
   ]
  },
  {
   "cell_type": "markdown",
   "metadata": {},
   "source": [
    "## <span style='color:blue'> Task 6.3 : Select features </span>\n",
    "\n",
    "Machine learning models require all input and output variables to be numeric.\n",
    "<br>\n",
    "This means that we must encode the timestamp to numbers before we can fit and evaluate a model."
   ]
  },
  {
   "cell_type": "code",
   "execution_count": null,
   "metadata": {},
   "outputs": [],
   "source": [
    "#Encode train features\n",
    "\n",
    "#Encode test features \n"
   ]
  },
  {
   "cell_type": "markdown",
   "metadata": {},
   "source": [
    "# <span style='color:blue'> Task 7 : Create the prediction model</span>"
   ]
  },
  {
   "cell_type": "markdown",
   "metadata": {},
   "source": [
    "## <span style='color:blue'> Task 7.1 : Fit the model </span>\n",
    "The KNN algorithm uses ‘feature similarity’ to predict the values of any new data points. This means that the new point is assigned a value based on how closely it resembles the points in the training set"
   ]
  },
  {
   "cell_type": "code",
   "execution_count": null,
   "metadata": {},
   "outputs": [],
   "source": [
    "\n",
    "\n",
    "# predict KWH consumption For the Test set\n"
   ]
  },
  {
   "cell_type": "code",
   "execution_count": null,
   "metadata": {},
   "outputs": [],
   "source": [
    "#Test\n"
   ]
  },
  {
   "cell_type": "markdown",
   "metadata": {},
   "source": [
    "## <span style='color:blue'> Task 7.2 : Covert the labels to the original distribution </span>\n",
    "we want to have the predicted & Test values in the original distributions. "
   ]
  },
  {
   "cell_type": "code",
   "execution_count": null,
   "metadata": {},
   "outputs": [],
   "source": [
    "# Convert predict to Dataframe\n",
    "\n",
    "#Give name to the predict column\n",
    "\n",
    "#revert back the distribution to the original distribution\n",
    "\n",
    "#Test\n",
    "\n",
    "#revert back the distribution to the original distribution\n",
    "\n",
    "#Test\n"
   ]
  },
  {
   "cell_type": "markdown",
   "metadata": {},
   "source": [
    "## <span style='color:blue'> Task 7.3 : visualize the predictions </span>\n",
    "We will compare between the predicted label and the test set label to check how good our model predicted the test label.  "
   ]
  },
  {
   "cell_type": "code",
   "execution_count": null,
   "metadata": {},
   "outputs": [],
   "source": [
    "# merge the actual test set with the predicted one\n",
    "\n",
    "#name the columns \n",
    "\n",
    "#Test\n"
   ]
  },
  {
   "cell_type": "code",
   "execution_count": null,
   "metadata": {},
   "outputs": [],
   "source": [
    "#comparison set\n"
   ]
  },
  {
   "cell_type": "code",
   "execution_count": null,
   "metadata": {},
   "outputs": [],
   "source": [
    "#plot set\n"
   ]
  }
 ],
 "metadata": {
  "kernelspec": {
   "display_name": "Python 3",
   "language": "python",
   "name": "python3"
  },
  "language_info": {
   "codemirror_mode": {
    "name": "ipython",
    "version": 3
   },
   "file_extension": ".py",
   "mimetype": "text/x-python",
   "name": "python",
   "nbconvert_exporter": "python",
   "pygments_lexer": "ipython3",
   "version": "3.6.4"
  }
 },
 "nbformat": 4,
 "nbformat_minor": 4
}
